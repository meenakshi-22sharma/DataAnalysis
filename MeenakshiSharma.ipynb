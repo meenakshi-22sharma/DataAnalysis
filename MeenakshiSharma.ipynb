{
 "cells": [
  {
   "cell_type": "code",
   "execution_count": 1,
   "metadata": {},
   "outputs": [],
   "source": [
    "import pandas as pd\n",
    "import numpy as np\n",
    "%matplotlib inline\n",
    "import matplotlib.pyplot as plt"
   ]
  },
  {
   "cell_type": "code",
   "execution_count": 2,
   "metadata": {},
   "outputs": [
    {
     "name": "stderr",
     "output_type": "stream",
     "text": [
      "C:\\Program Files\\anaconda\\lib\\site-packages\\IPython\\core\\interactiveshell.py:2785: DtypeWarning: Columns (7) have mixed types. Specify dtype option on import or set low_memory=False.\n",
      "  interactivity=interactivity, compiler=compiler, result=result)\n"
     ]
    }
   ],
   "source": [
    "data=pd.read_csv('data.csv',parse_dates=['report_date'])"
   ]
  },
  {
   "cell_type": "code",
   "execution_count": 3,
   "metadata": {},
   "outputs": [
    {
     "data": {
      "text/plain": [
       "report_date              0\n",
       "location                 7\n",
       "location_type            7\n",
       "data_field               7\n",
       "data_field_code          7\n",
       "time_period         107619\n",
       "time_period_type    107619\n",
       "value                  138\n",
       "unit                     7\n",
       "dtype: int64"
      ]
     },
     "execution_count": 3,
     "metadata": {},
     "output_type": "execute_result"
    }
   ],
   "source": [
    "data.isnull().sum()"
   ]
  },
  {
   "cell_type": "markdown",
   "metadata": {},
   "source": [
    "### therefore time_period and time_period_type are completely null. Hence drop"
   ]
  },
  {
   "cell_type": "code",
   "execution_count": 4,
   "metadata": {},
   "outputs": [
    {
     "data": {
      "text/html": [
       "<div>\n",
       "<style scoped>\n",
       "    .dataframe tbody tr th:only-of-type {\n",
       "        vertical-align: middle;\n",
       "    }\n",
       "\n",
       "    .dataframe tbody tr th {\n",
       "        vertical-align: top;\n",
       "    }\n",
       "\n",
       "    .dataframe thead th {\n",
       "        text-align: right;\n",
       "    }\n",
       "</style>\n",
       "<table border=\"1\" class=\"dataframe\">\n",
       "  <thead>\n",
       "    <tr style=\"text-align: right;\">\n",
       "      <th></th>\n",
       "      <th>report_date</th>\n",
       "      <th>location</th>\n",
       "      <th>location_type</th>\n",
       "      <th>data_field</th>\n",
       "      <th>data_field_code</th>\n",
       "      <th>value</th>\n",
       "      <th>unit</th>\n",
       "    </tr>\n",
       "  </thead>\n",
       "  <tbody>\n",
       "    <tr>\n",
       "      <th>0</th>\n",
       "      <td>2016-03-19</td>\n",
       "      <td>Argentina-Buenos_Aires</td>\n",
       "      <td>province</td>\n",
       "      <td>cumulative_confirmed_local_cases</td>\n",
       "      <td>AR0001</td>\n",
       "      <td>0</td>\n",
       "      <td>cases</td>\n",
       "    </tr>\n",
       "    <tr>\n",
       "      <th>1</th>\n",
       "      <td>2016-03-19</td>\n",
       "      <td>Argentina-Buenos_Aires</td>\n",
       "      <td>province</td>\n",
       "      <td>cumulative_probable_local_cases</td>\n",
       "      <td>AR0002</td>\n",
       "      <td>0</td>\n",
       "      <td>cases</td>\n",
       "    </tr>\n",
       "    <tr>\n",
       "      <th>2</th>\n",
       "      <td>2016-03-19</td>\n",
       "      <td>Argentina-Buenos_Aires</td>\n",
       "      <td>province</td>\n",
       "      <td>cumulative_confirmed_imported_cases</td>\n",
       "      <td>AR0003</td>\n",
       "      <td>2</td>\n",
       "      <td>cases</td>\n",
       "    </tr>\n",
       "    <tr>\n",
       "      <th>3</th>\n",
       "      <td>2016-03-19</td>\n",
       "      <td>Argentina-Buenos_Aires</td>\n",
       "      <td>province</td>\n",
       "      <td>cumulative_probable_imported_cases</td>\n",
       "      <td>AR0004</td>\n",
       "      <td>1</td>\n",
       "      <td>cases</td>\n",
       "    </tr>\n",
       "    <tr>\n",
       "      <th>4</th>\n",
       "      <td>2016-03-19</td>\n",
       "      <td>Argentina-Buenos_Aires</td>\n",
       "      <td>province</td>\n",
       "      <td>cumulative_cases_under_study</td>\n",
       "      <td>AR0005</td>\n",
       "      <td>127</td>\n",
       "      <td>cases</td>\n",
       "    </tr>\n",
       "  </tbody>\n",
       "</table>\n",
       "</div>"
      ],
      "text/plain": [
       "  report_date                location location_type  \\\n",
       "0  2016-03-19  Argentina-Buenos_Aires      province   \n",
       "1  2016-03-19  Argentina-Buenos_Aires      province   \n",
       "2  2016-03-19  Argentina-Buenos_Aires      province   \n",
       "3  2016-03-19  Argentina-Buenos_Aires      province   \n",
       "4  2016-03-19  Argentina-Buenos_Aires      province   \n",
       "\n",
       "                            data_field data_field_code value   unit  \n",
       "0     cumulative_confirmed_local_cases          AR0001     0  cases  \n",
       "1      cumulative_probable_local_cases          AR0002     0  cases  \n",
       "2  cumulative_confirmed_imported_cases          AR0003     2  cases  \n",
       "3   cumulative_probable_imported_cases          AR0004     1  cases  \n",
       "4         cumulative_cases_under_study          AR0005   127  cases  "
      ]
     },
     "execution_count": 4,
     "metadata": {},
     "output_type": "execute_result"
    }
   ],
   "source": [
    "data.drop(['time_period','time_period_type'],axis=1,inplace=True)\n",
    "data.head()"
   ]
  },
  {
   "cell_type": "code",
   "execution_count": 5,
   "metadata": {},
   "outputs": [
    {
     "data": {
      "text/plain": [
       "153"
      ]
     },
     "execution_count": 5,
     "metadata": {},
     "output_type": "execute_result"
    }
   ],
   "source": [
    "data.data_field_code.nunique()  # cannot be made index  \n",
    "# also nothing to rename"
   ]
  },
  {
   "cell_type": "markdown",
   "metadata": {},
   "source": [
    "### Clean Data by analysing missing values"
   ]
  },
  {
   "cell_type": "code",
   "execution_count": 6,
   "metadata": {},
   "outputs": [
    {
     "data": {
      "text/plain": [
       "(107619, 7)"
      ]
     },
     "execution_count": 6,
     "metadata": {},
     "output_type": "execute_result"
    }
   ],
   "source": [
    "data.dropna(how='all').shape\n",
    "# therefore there is no Row where all data is empty \n",
    "#hence cannot drop a complete row"
   ]
  },
  {
   "cell_type": "code",
   "execution_count": 7,
   "metadata": {},
   "outputs": [
    {
     "data": {
      "text/html": [
       "<div>\n",
       "<style scoped>\n",
       "    .dataframe tbody tr th:only-of-type {\n",
       "        vertical-align: middle;\n",
       "    }\n",
       "\n",
       "    .dataframe tbody tr th {\n",
       "        vertical-align: top;\n",
       "    }\n",
       "\n",
       "    .dataframe thead th {\n",
       "        text-align: right;\n",
       "    }\n",
       "</style>\n",
       "<table border=\"1\" class=\"dataframe\">\n",
       "  <thead>\n",
       "    <tr style=\"text-align: right;\">\n",
       "      <th></th>\n",
       "      <th>report_date</th>\n",
       "      <th>location</th>\n",
       "      <th>location_type</th>\n",
       "      <th>data_field</th>\n",
       "      <th>data_field_code</th>\n",
       "      <th>value</th>\n",
       "      <th>unit</th>\n",
       "    </tr>\n",
       "  </thead>\n",
       "  <tbody>\n",
       "    <tr>\n",
       "      <th>93193</th>\n",
       "      <td>nan</td>\n",
       "      <td>NaN</td>\n",
       "      <td>NaN</td>\n",
       "      <td>NaN</td>\n",
       "      <td>NaN</td>\n",
       "      <td>NaN</td>\n",
       "      <td>NaN</td>\n",
       "    </tr>\n",
       "    <tr>\n",
       "      <th>104239</th>\n",
       "      <td>nan</td>\n",
       "      <td>NaN</td>\n",
       "      <td>NaN</td>\n",
       "      <td>NaN</td>\n",
       "      <td>NaN</td>\n",
       "      <td>NaN</td>\n",
       "      <td>NaN</td>\n",
       "    </tr>\n",
       "    <tr>\n",
       "      <th>104240</th>\n",
       "      <td>nan</td>\n",
       "      <td>NaN</td>\n",
       "      <td>NaN</td>\n",
       "      <td>NaN</td>\n",
       "      <td>NaN</td>\n",
       "      <td>NaN</td>\n",
       "      <td>NaN</td>\n",
       "    </tr>\n",
       "    <tr>\n",
       "      <th>104241</th>\n",
       "      <td>nan</td>\n",
       "      <td>NaN</td>\n",
       "      <td>NaN</td>\n",
       "      <td>NaN</td>\n",
       "      <td>NaN</td>\n",
       "      <td>NaN</td>\n",
       "      <td>NaN</td>\n",
       "    </tr>\n",
       "    <tr>\n",
       "      <th>104246</th>\n",
       "      <td>nan</td>\n",
       "      <td>NaN</td>\n",
       "      <td>NaN</td>\n",
       "      <td>NaN</td>\n",
       "      <td>NaN</td>\n",
       "      <td>NaN</td>\n",
       "      <td>NaN</td>\n",
       "    </tr>\n",
       "    <tr>\n",
       "      <th>104247</th>\n",
       "      <td>nan</td>\n",
       "      <td>NaN</td>\n",
       "      <td>NaN</td>\n",
       "      <td>NaN</td>\n",
       "      <td>NaN</td>\n",
       "      <td>NaN</td>\n",
       "      <td>NaN</td>\n",
       "    </tr>\n",
       "    <tr>\n",
       "      <th>104248</th>\n",
       "      <td>nan</td>\n",
       "      <td>NaN</td>\n",
       "      <td>NaN</td>\n",
       "      <td>NaN</td>\n",
       "      <td>NaN</td>\n",
       "      <td>NaN</td>\n",
       "      <td>NaN</td>\n",
       "    </tr>\n",
       "  </tbody>\n",
       "</table>\n",
       "</div>"
      ],
      "text/plain": [
       "       report_date location location_type data_field data_field_code value  \\\n",
       "93193          nan      NaN           NaN        NaN             NaN   NaN   \n",
       "104239         nan      NaN           NaN        NaN             NaN   NaN   \n",
       "104240         nan      NaN           NaN        NaN             NaN   NaN   \n",
       "104241         nan      NaN           NaN        NaN             NaN   NaN   \n",
       "104246         nan      NaN           NaN        NaN             NaN   NaN   \n",
       "104247         nan      NaN           NaN        NaN             NaN   NaN   \n",
       "104248         nan      NaN           NaN        NaN             NaN   NaN   \n",
       "\n",
       "       unit  \n",
       "93193   NaN  \n",
       "104239  NaN  \n",
       "104240  NaN  \n",
       "104241  NaN  \n",
       "104246  NaN  \n",
       "104247  NaN  \n",
       "104248  NaN  "
      ]
     },
     "execution_count": 7,
     "metadata": {},
     "output_type": "execute_result"
    }
   ],
   "source": [
    "data[data.location.isnull()]\n",
    "#there are 7 rows where all columns expect 1 is NaN. "
   ]
  },
  {
   "cell_type": "code",
   "execution_count": 8,
   "metadata": {},
   "outputs": [
    {
     "data": {
      "text/plain": [
       "(107612, 7)"
      ]
     },
     "execution_count": 8,
     "metadata": {},
     "output_type": "execute_result"
    }
   ],
   "source": [
    "data.dropna(subset=['location', 'location_type', 'data_field','data_field_code', 'value', 'unit'],how='all').shape\n",
    "# only 7 rows will be lost, if we delete the data .\n",
    "#Hence, we can follow"
   ]
  },
  {
   "cell_type": "markdown",
   "metadata": {},
   "source": [
    "## Drop 7 Rows"
   ]
  },
  {
   "cell_type": "code",
   "execution_count": 9,
   "metadata": {},
   "outputs": [],
   "source": [
    "data.dropna(subset=['location', 'location_type', 'data_field','data_field_code', 'value', 'unit'],how='all',inplace=True)"
   ]
  },
  {
   "cell_type": "code",
   "execution_count": 10,
   "metadata": {},
   "outputs": [
    {
     "data": {
      "text/plain": [
       "report_date          0\n",
       "location             0\n",
       "location_type        0\n",
       "data_field           0\n",
       "data_field_code      0\n",
       "value              131\n",
       "unit                 0\n",
       "dtype: int64"
      ]
     },
     "execution_count": 10,
     "metadata": {},
     "output_type": "execute_result"
    }
   ],
   "source": [
    "data.isnull().sum()"
   ]
  },
  {
   "cell_type": "markdown",
   "metadata": {},
   "source": [
    "## Treat 'Value' column ( which has 131 NaN values)"
   ]
  },
  {
   "cell_type": "markdown",
   "metadata": {},
   "source": [
    "##### convert into numeric and skip value like 125*2"
   ]
  },
  {
   "cell_type": "code",
   "execution_count": 11,
   "metadata": {},
   "outputs": [
    {
     "data": {
      "text/plain": [
       "count    107478.000000\n",
       "mean         48.634548\n",
       "std        1343.204370\n",
       "min           0.000000\n",
       "25%           0.000000\n",
       "50%           0.000000\n",
       "75%           2.000000\n",
       "max      161241.000000\n",
       "Name: value, dtype: float64"
      ]
     },
     "execution_count": 11,
     "metadata": {},
     "output_type": "execute_result"
    }
   ],
   "source": [
    "data['value']=pd.to_numeric(data.value,errors='coerce')\n",
    "data.value.describe()"
   ]
  },
  {
   "cell_type": "markdown",
   "metadata": {},
   "source": [
    "#### replace missing value with the mean of column"
   ]
  },
  {
   "cell_type": "code",
   "execution_count": 12,
   "metadata": {},
   "outputs": [
    {
     "data": {
      "text/plain": [
       "report_date        0\n",
       "location           0\n",
       "location_type      0\n",
       "data_field         0\n",
       "data_field_code    0\n",
       "value              0\n",
       "unit               0\n",
       "dtype: int64"
      ]
     },
     "execution_count": 12,
     "metadata": {},
     "output_type": "execute_result"
    }
   ],
   "source": [
    "data.value.fillna(data.value.mean(), inplace = True)\n",
    "data.isnull().sum()"
   ]
  },
  {
   "cell_type": "markdown",
   "metadata": {},
   "source": [
    "# 1. show data field code 'AR0005' values for 'Argentina-Catamarca' for entire duration"
   ]
  },
  {
   "cell_type": "code",
   "execution_count": 13,
   "metadata": {},
   "outputs": [
    {
     "data": {
      "text/plain": [
       "16      14.0\n",
       "160     15.0\n",
       "304     15.0\n",
       "448     15.0\n",
       "592     15.0\n",
       "736     15.0\n",
       "880     16.0\n",
       "1024    15.0\n",
       "1168    16.0\n",
       "1312    15.0\n",
       "1456    15.0\n",
       "1600    15.0\n",
       "1744    15.0\n",
       "1888    16.0\n",
       "Name: value, dtype: float64"
      ]
     },
     "execution_count": 13,
     "metadata": {},
     "output_type": "execute_result"
    }
   ],
   "source": [
    "data[(data.data_field_code=='AR0005') &(data.location=='Argentina-Catamarca') ]['value']"
   ]
  },
  {
   "cell_type": "markdown",
   "metadata": {},
   "source": [
    "## Mid-Analysis before Question 2"
   ]
  },
  {
   "cell_type": "code",
   "execution_count": 14,
   "metadata": {},
   "outputs": [
    {
     "data": {
      "text/html": [
       "<div>\n",
       "<style scoped>\n",
       "    .dataframe tbody tr th:only-of-type {\n",
       "        vertical-align: middle;\n",
       "    }\n",
       "\n",
       "    .dataframe tbody tr th {\n",
       "        vertical-align: top;\n",
       "    }\n",
       "\n",
       "    .dataframe thead th {\n",
       "        text-align: right;\n",
       "    }\n",
       "</style>\n",
       "<table border=\"1\" class=\"dataframe\">\n",
       "  <thead>\n",
       "    <tr style=\"text-align: right;\">\n",
       "      <th></th>\n",
       "      <th>report_date</th>\n",
       "      <th>location</th>\n",
       "      <th>location_type</th>\n",
       "      <th>data_field</th>\n",
       "      <th>data_field_code</th>\n",
       "      <th>value</th>\n",
       "      <th>unit</th>\n",
       "    </tr>\n",
       "  </thead>\n",
       "  <tbody>\n",
       "    <tr>\n",
       "      <th>104407</th>\n",
       "      <td>2016_02_04</td>\n",
       "      <td>Puerto_Rico</td>\n",
       "      <td>territory</td>\n",
       "      <td>zika_confirmed_4weeks</td>\n",
       "      <td>PR0001</td>\n",
       "      <td>15.0</td>\n",
       "      <td>cases</td>\n",
       "    </tr>\n",
       "    <tr>\n",
       "      <th>104408</th>\n",
       "      <td>2016_02_04</td>\n",
       "      <td>Puerto_Rico</td>\n",
       "      <td>territory</td>\n",
       "      <td>zika_confirmed_cumulative_2016</td>\n",
       "      <td>PR0003</td>\n",
       "      <td>12.0</td>\n",
       "      <td>cases</td>\n",
       "    </tr>\n",
       "    <tr>\n",
       "      <th>104409</th>\n",
       "      <td>2016_02_04</td>\n",
       "      <td>Puerto_Rico</td>\n",
       "      <td>territory</td>\n",
       "      <td>flavi_confirmed_cumulative_2016</td>\n",
       "      <td>PR0005</td>\n",
       "      <td>0.0</td>\n",
       "      <td>cases</td>\n",
       "    </tr>\n",
       "    <tr>\n",
       "      <th>104410</th>\n",
       "      <td>2016_02_04</td>\n",
       "      <td>Puerto_Rico</td>\n",
       "      <td>territory</td>\n",
       "      <td>zika_confirmed_cumulative_2015-2016</td>\n",
       "      <td>PR0006</td>\n",
       "      <td>21.0</td>\n",
       "      <td>cases</td>\n",
       "    </tr>\n",
       "    <tr>\n",
       "      <th>104411</th>\n",
       "      <td>2016_02_04</td>\n",
       "      <td>Puerto_Rico</td>\n",
       "      <td>territory</td>\n",
       "      <td>zika_confirmed_pregnant_cumulative_2015-2016</td>\n",
       "      <td>PR0007</td>\n",
       "      <td>1.0</td>\n",
       "      <td>cases</td>\n",
       "    </tr>\n",
       "    <tr>\n",
       "      <th>104412</th>\n",
       "      <td>2016_02_04</td>\n",
       "      <td>Puerto_Rico</td>\n",
       "      <td>territory</td>\n",
       "      <td>zika_confirmed_pregnant_symptomatic_cumulative...</td>\n",
       "      <td>PR0008</td>\n",
       "      <td>0.0</td>\n",
       "      <td>cases</td>\n",
       "    </tr>\n",
       "    <tr>\n",
       "      <th>104413</th>\n",
       "      <td>2016_02_04</td>\n",
       "      <td>Puerto_Rico</td>\n",
       "      <td>territory</td>\n",
       "      <td>zika_confirmed_pregnant_asymptomatic_cumulativ...</td>\n",
       "      <td>PR0009</td>\n",
       "      <td>0.0</td>\n",
       "      <td>cases</td>\n",
       "    </tr>\n",
       "    <tr>\n",
       "      <th>104414</th>\n",
       "      <td>2016_02_04</td>\n",
       "      <td>Puerto_Rico</td>\n",
       "      <td>territory</td>\n",
       "      <td>GBS_reported_cumulative_2015-2016</td>\n",
       "      <td>PR0010</td>\n",
       "      <td>0.0</td>\n",
       "      <td>cases</td>\n",
       "    </tr>\n",
       "    <tr>\n",
       "      <th>104415</th>\n",
       "      <td>2016_02_04</td>\n",
       "      <td>Puerto_Rico</td>\n",
       "      <td>territory</td>\n",
       "      <td>arbovirus_suspected_2weeks</td>\n",
       "      <td>PR0011</td>\n",
       "      <td>240.0</td>\n",
       "      <td>cases</td>\n",
       "    </tr>\n",
       "    <tr>\n",
       "      <th>104416</th>\n",
       "      <td>2016_02_04</td>\n",
       "      <td>Puerto_Rico</td>\n",
       "      <td>territory</td>\n",
       "      <td>arbovirus_suspected_cumulative_2016</td>\n",
       "      <td>PR0012</td>\n",
       "      <td>184.0</td>\n",
       "      <td>cases</td>\n",
       "    </tr>\n",
       "  </tbody>\n",
       "</table>\n",
       "</div>"
      ],
      "text/plain": [
       "       report_date     location location_type  \\\n",
       "104407  2016_02_04  Puerto_Rico     territory   \n",
       "104408  2016_02_04  Puerto_Rico     territory   \n",
       "104409  2016_02_04  Puerto_Rico     territory   \n",
       "104410  2016_02_04  Puerto_Rico     territory   \n",
       "104411  2016_02_04  Puerto_Rico     territory   \n",
       "104412  2016_02_04  Puerto_Rico     territory   \n",
       "104413  2016_02_04  Puerto_Rico     territory   \n",
       "104414  2016_02_04  Puerto_Rico     territory   \n",
       "104415  2016_02_04  Puerto_Rico     territory   \n",
       "104416  2016_02_04  Puerto_Rico     territory   \n",
       "\n",
       "                                               data_field data_field_code  \\\n",
       "104407                              zika_confirmed_4weeks          PR0001   \n",
       "104408                     zika_confirmed_cumulative_2016          PR0003   \n",
       "104409                    flavi_confirmed_cumulative_2016          PR0005   \n",
       "104410                zika_confirmed_cumulative_2015-2016          PR0006   \n",
       "104411       zika_confirmed_pregnant_cumulative_2015-2016          PR0007   \n",
       "104412  zika_confirmed_pregnant_symptomatic_cumulative...          PR0008   \n",
       "104413  zika_confirmed_pregnant_asymptomatic_cumulativ...          PR0009   \n",
       "104414                  GBS_reported_cumulative_2015-2016          PR0010   \n",
       "104415                         arbovirus_suspected_2weeks          PR0011   \n",
       "104416                arbovirus_suspected_cumulative_2016          PR0012   \n",
       "\n",
       "        value   unit  \n",
       "104407   15.0  cases  \n",
       "104408   12.0  cases  \n",
       "104409    0.0  cases  \n",
       "104410   21.0  cases  \n",
       "104411    1.0  cases  \n",
       "104412    0.0  cases  \n",
       "104413    0.0  cases  \n",
       "104414    0.0  cases  \n",
       "104415  240.0  cases  \n",
       "104416  184.0  cases  "
      ]
     },
     "execution_count": 14,
     "metadata": {},
     "output_type": "execute_result"
    }
   ],
   "source": [
    "data[data['report_date'] == '2016_02_04']\n",
    "# report_date need to be converted into Datetime but, some values have other format"
   ]
  },
  {
   "cell_type": "markdown",
   "metadata": {},
   "source": [
    "### Replace _ with - to make date format string"
   ]
  },
  {
   "cell_type": "code",
   "execution_count": 15,
   "metadata": {},
   "outputs": [],
   "source": [
    "data.report_date=data.report_date.str.replace('_','-')"
   ]
  },
  {
   "cell_type": "markdown",
   "metadata": {},
   "source": [
    "## Convert date string to DateTime"
   ]
  },
  {
   "cell_type": "code",
   "execution_count": 16,
   "metadata": {},
   "outputs": [],
   "source": [
    "data['report_date'] = pd.to_datetime(data['report_date'])\n",
    "\n"
   ]
  },
  {
   "cell_type": "markdown",
   "metadata": {},
   "source": [
    "# 2. Plot 'Argentina-CABA' and 'Argentina-Catamarca' for number of cases values for entire duration to identify the difference."
   ]
  },
  {
   "cell_type": "code",
   "execution_count": 28,
   "metadata": {},
   "outputs": [
    {
     "data": {
      "text/plain": [
       "Text(0.5,1,'Value distribution')"
      ]
     },
     "execution_count": 28,
     "metadata": {},
     "output_type": "execute_result"
    },
    {
     "data": {
      "image/png": "[encoded data removed]",
      "text/plain": [
       "<Figure size 432x288 with 1 Axes>"
      ]
     },
     "metadata": {},
     "output_type": "display_data"
    }
   ],
   "source": [
    "ACabaCata=data[((data.location==\"Argentina-CABA\")&(data.unit==\"cases\"))|((data.location==\"Argentina-Catamarca\")&(data.unit==\"cases\"))]\n",
    "ACabaCata.groupby('location').sum().plot(kind='bar',colormap='PiYG')\n",
    "plt.title(\"Value distribution\")\n"
   ]
  },
  {
   "cell_type": "markdown",
   "metadata": {},
   "source": [
    "# Structuring before Question 3"
   ]
  },
  {
   "cell_type": "code",
   "execution_count": 29,
   "metadata": {},
   "outputs": [],
   "source": [
    "Argentina_CABA=data[(data.location==\"Argentina-CABA\")&(data.unit==\"cases\")]\n",
    "Argentina_Catamarca=data[(data.location==\"Argentina-Catamarca\")&(data.unit==\"cases\")]"
   ]
  },
  {
   "cell_type": "code",
   "execution_count": 13,
   "metadata": {},
   "outputs": [
    {
     "data": {
      "text/plain": [
       "cumulative_cases_under_study           True\n",
       "cumulative_cases_discarded             True\n",
       "cumulative_probable_local_cases        True\n",
       "cumulative_probable_imported_cases     True\n",
       "cumulative_confirmed_imported_cases    True\n",
       "cumulative_confirmed_local_cases       True\n",
       "Name: data_field, dtype: bool"
      ]
     },
     "execution_count": 13,
     "metadata": {},
     "output_type": "execute_result"
    }
   ],
   "source": [
    "Argentina_CABA.data_field.value_counts()==Argentina_Catamarca.data_field.value_counts()\n",
    "# From observation Both CABA and Catarmarca have same/common data_field column values"
   ]
  },
  {
   "cell_type": "code",
   "execution_count": 31,
   "metadata": {},
   "outputs": [
    {
     "data": {
      "text/html": [
       "<div>\n",
       "<style scoped>\n",
       "    .dataframe tbody tr th:only-of-type {\n",
       "        vertical-align: middle;\n",
       "    }\n",
       "\n",
       "    .dataframe tbody tr th {\n",
       "        vertical-align: top;\n",
       "    }\n",
       "\n",
       "    .dataframe thead th {\n",
       "        text-align: right;\n",
       "    }\n",
       "</style>\n",
       "<table border=\"1\" class=\"dataframe\">\n",
       "  <thead>\n",
       "    <tr style=\"text-align: right;\">\n",
       "      <th></th>\n",
       "      <th>Caba</th>\n",
       "      <th>data_field</th>\n",
       "      <th>Catamarca</th>\n",
       "      <th>Buenos_Aires</th>\n",
       "    </tr>\n",
       "  </thead>\n",
       "  <tbody>\n",
       "    <tr>\n",
       "      <th>6</th>\n",
       "      <td>0.0</td>\n",
       "      <td>cumulative_confirmed_local_cases</td>\n",
       "      <td>0.0</td>\n",
       "      <td>0.0</td>\n",
       "    </tr>\n",
       "    <tr>\n",
       "      <th>7</th>\n",
       "      <td>0.0</td>\n",
       "      <td>cumulative_probable_local_cases</td>\n",
       "      <td>0.0</td>\n",
       "      <td>0.0</td>\n",
       "    </tr>\n",
       "    <tr>\n",
       "      <th>8</th>\n",
       "      <td>9.0</td>\n",
       "      <td>cumulative_confirmed_imported_cases</td>\n",
       "      <td>0.0</td>\n",
       "      <td>2.0</td>\n",
       "    </tr>\n",
       "    <tr>\n",
       "      <th>9</th>\n",
       "      <td>0.0</td>\n",
       "      <td>cumulative_probable_imported_cases</td>\n",
       "      <td>0.0</td>\n",
       "      <td>1.0</td>\n",
       "    </tr>\n",
       "    <tr>\n",
       "      <th>10</th>\n",
       "      <td>68.0</td>\n",
       "      <td>cumulative_cases_under_study</td>\n",
       "      <td>14.0</td>\n",
       "      <td>127.0</td>\n",
       "    </tr>\n",
       "  </tbody>\n",
       "</table>\n",
       "</div>"
      ],
      "text/plain": [
       "    Caba                           data_field  Catamarca  Buenos_Aires\n",
       "6    0.0     cumulative_confirmed_local_cases        0.0           0.0\n",
       "7    0.0      cumulative_probable_local_cases        0.0           0.0\n",
       "8    9.0  cumulative_confirmed_imported_cases        0.0           2.0\n",
       "9    0.0   cumulative_probable_imported_cases        0.0           1.0\n",
       "10  68.0         cumulative_cases_under_study       14.0         127.0"
      ]
     },
     "execution_count": 31,
     "metadata": {},
     "output_type": "execute_result"
    }
   ],
   "source": [
    "dataframe =Argentina_CABA.filter(['value','data_field'],axis=1)\n",
    "dataframe['Catamarca']=Argentina_Catamarca['value'].values\n",
    "dataframe.rename(columns={'value':'Caba'},inplace=True)\n",
    "dataframe['Buenos_Aires']=data[data.location=='Argentina-Buenos_Aires']['value'].values\n",
    "dataframe.head()"
   ]
  },
  {
   "cell_type": "markdown",
   "metadata": {},
   "source": [
    "# 3. Plot how data field values are distributed across the locations 'Argentina-Buenos_Aires', 'Argentina-CABA', 'Argentina-Catamarca'"
   ]
  },
  {
   "cell_type": "code",
   "execution_count": 39,
   "metadata": {},
   "outputs": [
    {
     "data": {
      "text/html": [
       "<div>\n",
       "<style scoped>\n",
       "    .dataframe tbody tr th:only-of-type {\n",
       "        vertical-align: middle;\n",
       "    }\n",
       "\n",
       "    .dataframe tbody tr th {\n",
       "        vertical-align: top;\n",
       "    }\n",
       "\n",
       "    .dataframe thead th {\n",
       "        text-align: right;\n",
       "    }\n",
       "</style>\n",
       "<table border=\"1\" class=\"dataframe\">\n",
       "  <thead>\n",
       "    <tr style=\"text-align: right;\">\n",
       "      <th></th>\n",
       "      <th>Caba</th>\n",
       "      <th>month</th>\n",
       "      <th>Catamarca</th>\n",
       "      <th>Buenos_Aires</th>\n",
       "    </tr>\n",
       "    <tr>\n",
       "      <th>data_field</th>\n",
       "      <th></th>\n",
       "      <th></th>\n",
       "      <th></th>\n",
       "      <th></th>\n",
       "    </tr>\n",
       "  </thead>\n",
       "  <tbody>\n",
       "    <tr>\n",
       "      <th>cumulative_cases_discarded</th>\n",
       "      <td>27.0</td>\n",
       "      <td>66</td>\n",
       "      <td>0.0</td>\n",
       "      <td>251.0</td>\n",
       "    </tr>\n",
       "    <tr>\n",
       "      <th>cumulative_cases_under_study</th>\n",
       "      <td>1748.0</td>\n",
       "      <td>66</td>\n",
       "      <td>212.0</td>\n",
       "      <td>2981.0</td>\n",
       "    </tr>\n",
       "    <tr>\n",
       "      <th>cumulative_confirmed_imported_cases</th>\n",
       "      <td>124.0</td>\n",
       "      <td>66</td>\n",
       "      <td>0.0</td>\n",
       "      <td>32.0</td>\n",
       "    </tr>\n",
       "    <tr>\n",
       "      <th>cumulative_confirmed_local_cases</th>\n",
       "      <td>0.0</td>\n",
       "      <td>66</td>\n",
       "      <td>0.0</td>\n",
       "      <td>0.0</td>\n",
       "    </tr>\n",
       "    <tr>\n",
       "      <th>cumulative_probable_imported_cases</th>\n",
       "      <td>0.0</td>\n",
       "      <td>66</td>\n",
       "      <td>0.0</td>\n",
       "      <td>15.0</td>\n",
       "    </tr>\n",
       "    <tr>\n",
       "      <th>cumulative_probable_local_cases</th>\n",
       "      <td>0.0</td>\n",
       "      <td>66</td>\n",
       "      <td>0.0</td>\n",
       "      <td>0.0</td>\n",
       "    </tr>\n",
       "  </tbody>\n",
       "</table>\n",
       "</div>"
      ],
      "text/plain": [
       "                                       Caba  month  Catamarca  Buenos_Aires\n",
       "data_field                                                                 \n",
       "cumulative_cases_discarded             27.0     66        0.0         251.0\n",
       "cumulative_cases_under_study         1748.0     66      212.0        2981.0\n",
       "cumulative_confirmed_imported_cases   124.0     66        0.0          32.0\n",
       "cumulative_confirmed_local_cases        0.0     66        0.0           0.0\n",
       "cumulative_probable_imported_cases      0.0     66        0.0          15.0\n",
       "cumulative_probable_local_cases         0.0     66        0.0           0.0"
      ]
     },
     "execution_count": 39,
     "metadata": {},
     "output_type": "execute_result"
    }
   ],
   "source": [
    "dataframe.groupby('data_field').sum()"
   ]
  },
  {
   "cell_type": "markdown",
   "metadata": {},
   "source": [
    "### Could be visualize as bar graph"
   ]
  },
  {
   "cell_type": "code",
   "execution_count": 51,
   "metadata": {},
   "outputs": [
    {
     "data": {
      "image/png": "[encoded data removed]",
      "text/plain": [
       "<Figure size 1440x432 with 1 Axes>"
      ]
     },
     "metadata": {},
     "output_type": "display_data"
    }
   ],
   "source": [
    "plt.figure(figsize=(20,6))\n",
    "plt.bar(dataframe.data_field,dataframe.Buenos_Aires,width=0.6,color='beige',label=\"Buenos_Aires\")\n",
    "plt.bar(dataframe.data_field,dataframe.Caba,width=0.4,color='teal',label=\"Caba\")\n",
    "plt.bar(dataframe.data_field,dataframe.Catamarca,width=0.2,color='cyan',label=\"Catamarca\")\n",
    "plt.legend(loc=2)\n",
    "plt.title(\"Cases categorized under 2016\")\n",
    "plt.xticks(rotation=45)\n",
    "plt.show()\n",
    "# hence Bueno_aries spotted largest number of cases under study and also discarded\n",
    "# Caba has most numer of imported cases"
   ]
  },
  {
   "cell_type": "markdown",
   "metadata": {},
   "source": [
    "## EXTRA VISUALIZATION ON GIVEN DATA - (monthly/yearly)"
   ]
  },
  {
   "cell_type": "code",
   "execution_count": 35,
   "metadata": {},
   "outputs": [
    {
     "data": {
      "text/plain": [
       "2016    106956\n",
       "2015       656\n",
       "Name: year, dtype: int64"
      ]
     },
     "execution_count": 35,
     "metadata": {},
     "output_type": "execute_result"
    }
   ],
   "source": [
    "#creating 2 more columns out of date\n",
    "data['year']=data['report_date'].dt.year\n",
    "data['month']=data['report_date'].dt.month\n",
    "data.year.value_counts()\n",
    "# therefore : 2 years to visualize\n"
   ]
  },
  {
   "cell_type": "markdown",
   "metadata": {},
   "source": [
    "### For 'Argentina*' locations only 2016 Year data is available with data distributed within Jan(1)-July(6) months"
   ]
  },
  {
   "cell_type": "code",
   "execution_count": 36,
   "metadata": {},
   "outputs": [
    {
     "name": "stdout",
     "output_type": "stream",
     "text": [
      "2016    2091\n",
      "Name: year, dtype: int64\n",
      "4    591\n",
      "5    588\n",
      "6    588\n",
      "3    300\n",
      "1     12\n",
      "2     12\n",
      "Name: month, dtype: int64\n"
     ]
    }
   ],
   "source": [
    "### Both places only has 2016 data therefore the plot could be on months Or on count of 'value'\n",
    "print(data[data.location.str.contains('Argentina')]['year'].value_counts())\n",
    "print(data[data.location.str.contains('Argentina')]['month'].value_counts())"
   ]
  },
  {
   "cell_type": "code",
   "execution_count": 39,
   "metadata": {},
   "outputs": [],
   "source": [
    "dataframe['month']=data[((data.location==\"Argentina-CABA\")&(data.unit==\"cases\"))]['month'].values"
   ]
  },
  {
   "cell_type": "markdown",
   "metadata": {},
   "source": [
    "#### SHOWS THE PORTION OF CASES IN LOCATIONS UNDER EACH MONTH OF 2016"
   ]
  },
  {
   "cell_type": "code",
   "execution_count": 41,
   "metadata": {},
   "outputs": [
    {
     "data": {
      "image/png": "[encoded data removed]",
      "text/plain": [
       "<Figure size 432x288 with 1 Axes>"
      ]
     },
     "metadata": {},
     "output_type": "display_data"
    }
   ],
   "source": [
    "dataframe.groupby('month').mean().plot(kind='bar',stacked=True,colormap=\"plasma\")\n",
    "plt.xticks(np.arange(4),('March','April','May','June'),rotation=45)\n",
    "plt.show()\n",
    "# therfore Beuno_Aris has maximum active cases than other loations\n",
    "# Month of May has maximum cases encountered"
   ]
  },
  {
   "cell_type": "markdown",
   "metadata": {},
   "source": [
    "### Month of May has maximum cases encountered could also be visualized by Area plot"
   ]
  },
  {
   "cell_type": "code",
   "execution_count": 42,
   "metadata": {},
   "outputs": [
    {
     "data": {
      "image/png": "[encoded data removed]",
      "text/plain": [
       "<Figure size 432x288 with 1 Axes>"
      ]
     },
     "metadata": {},
     "output_type": "display_data"
    }
   ],
   "source": [
    "dataframe.groupby('month').sum().plot(kind='area',stacked=True,colormap=\"magma\")\n",
    "plt.title(\"Cases in location of Argentina in 2016 (Months)\")\n",
    "plt.show()"
   ]
  },
  {
   "cell_type": "markdown",
   "metadata": {},
   "source": [
    "# 4. Build a program to predict the correct word for wrongly typed word.\n"
   ]
  },
  {
   "cell_type": "code",
   "execution_count": 43,
   "metadata": {},
   "outputs": [],
   "source": [
    "import re"
   ]
  },
  {
   "cell_type": "code",
   "execution_count": 44,
   "metadata": {},
   "outputs": [],
   "source": [
    "big = open('big.txt').read()\n",
    "tokens = re.findall('\\w+',big)"
   ]
  },
  {
   "cell_type": "code",
   "execution_count": 45,
   "metadata": {},
   "outputs": [],
   "source": [
    "# keyboard typing mistakes same lane, adjacent\n",
    "keyboard = {\n",
    "    'a':['s'],\n",
    "    'b':['v','n'],\n",
    "    'c':['x','v'],\n",
    "    'd':['s','f'],\n",
    "    'e':['w','r'],\n",
    "    'f':['d','g'],\n",
    "    'g':['f','h'],\n",
    "    'h':['g','j'],\n",
    "    'i':['u','o'],\n",
    "    'j':['k','h'],\n",
    "    'k':['j','l'],\n",
    "    'l':['k'],\n",
    "    'm':['n'],\n",
    "    'n':['b','m'],\n",
    "    'o':['i','p'] ,\n",
    "    'p':['o'],\n",
    "    'q':['w'],\n",
    "    'r':['e','t'],\n",
    "    's':['a','d'],\n",
    "    't':['r','y'],\n",
    "    'u':['y','i'],\n",
    "    'v':['c','b'],\n",
    "    'w':['q','e'],\n",
    "    'x':['z','c'],\n",
    "    'y':['t','u'],\n",
    "    'z':['x']   \n",
    "}"
   ]
  },
  {
   "cell_type": "code",
   "execution_count": 46,
   "metadata": {},
   "outputs": [],
   "source": [
    "possible=[]  # has words that are closest to error of typing\n",
    "allPossiblity=[] # has all possible words\n",
    "def printf(i,prob):\n",
    "    res = (\"\".join(map(str, i))) # converting list in string\n",
    "    if prob==0:\n",
    "        if res not in possible:  #stop duplication by storing in list if some other regex have also got us same word\n",
    "            if not possible: # to avoid 'OR' in print at beggining \n",
    "                print(\"'\"+res+\"'\",end='')\n",
    "            else:\n",
    "                print(\" OR '\"+res+\"'\",end='') \n",
    "                \n",
    "            possible.append(res)\n",
    "               \n",
    "    else:\n",
    "        if res not in allPossiblity:\n",
    "            allPossiblity.append(res)\n",
    "        "
   ]
  },
  {
   "cell_type": "code",
   "execution_count": 47,
   "metadata": {},
   "outputs": [],
   "source": [
    "def get_similar_word(word):\n",
    "\n",
    "    for j in range(len(word)+1):\n",
    "        \n",
    "        if j==len(word):\n",
    "            regexi=re.compile(\"^\"+word[0:-1]+word[-1]+\"?\\w?$\")  # if last word is missing/ extra\n",
    "        elif j==0: \n",
    "            regexi=re.compile(\"^\\w?\"+word[0:-1]+word[-1]+\"$\")   # if first word is missing\n",
    "        else:\n",
    "            regexi=re.compile(\"^\"+word[0:j-1]+word[j-1]+\"?\\w?\"+word[j-1]+\"?\"+word[j:-1]+word[-1]+\"$\")\n",
    "        \n",
    "        newlist = list(filter(regexi.match, tokens))\n",
    "        unique_data = [list(x) for x in set(tuple(x) for x in newlist)]\n",
    "        for i in unique_data:\n",
    "            if len(word)==len(i):   # means length is same and word is misspelled  like whst: \"a\" misspelled as \"s\"\n",
    "                if i[j-1] in keyboard[word[j-1]]:\n",
    "                    printf(i,0)\n",
    "                else:\n",
    "                    printf(i,1)        \n",
    "            elif len(word) == len(i)+1 or len(word) == len(i)-1:  # some word is missing  like 'numbr': \"e\" is\n",
    "                printf(i,0)"
   ]
  },
  {
   "cell_type": "code",
   "execution_count": 48,
   "metadata": {},
   "outputs": [],
   "source": [
    "def find_word(word):\n",
    "    allPossiblity.clear()\n",
    "    possible.clear()\n",
    "    if word in tokens:\n",
    "        print(\"Yeah I found - \"+word)\n",
    "    else:\n",
    "        print(\"\\tI guess you mean - \",end='')\n",
    "        get_similar_word(word)\n",
    "        if allPossiblity:\n",
    "            print(\"\\n\\n\\tYou may wanted to say any of these ?\")\n",
    "            print(\"\\t\\t\",end='')\n",
    "            print(allPossiblity)"
   ]
  },
  {
   "cell_type": "markdown",
   "metadata": {},
   "source": [
    "### Testing   ( Note: . ? - are not in words)"
   ]
  },
  {
   "cell_type": "code",
   "execution_count": 49,
   "metadata": {},
   "outputs": [
    {
     "name": "stdout",
     "output_type": "stream",
     "text": [
      "Enter word: hol\n",
      "\tI guess you mean - 'howl' OR 'holt' OR 'ho' OR 'hold' OR 'hole' OR 'holy'\n",
      "\n",
      "\tYou may wanted to say any of these ?\n",
      "\t\t['vol', 'Vol', 'col', 'sol', 'hon', 'hop', 'hot', 'how', 'hoy']\n"
     ]
    }
   ],
   "source": [
    "FindWord= input(\"Enter word: \")\n",
    "find_word(FindWord)"
   ]
  },
  {
   "cell_type": "code",
   "execution_count": 60,
   "metadata": {},
   "outputs": [
    {
     "name": "stdout",
     "output_type": "stream",
     "text": [
      "\tI guess you mean - 'whist' OR 'what'\n",
      "\n",
      "\tYou may wanted to say any of these ?\n",
      "\t\t['wast', 'west', 'whit']\n"
     ]
    }
   ],
   "source": [
    "find_word(\"whst\")"
   ]
  },
  {
   "cell_type": "code",
   "execution_count": 61,
   "metadata": {},
   "outputs": [
    {
     "name": "stdout",
     "output_type": "stream",
     "text": [
      "Yeah I found - introspective\n"
     ]
    }
   ],
   "source": [
    "find_word(\"introspective\")"
   ]
  },
  {
   "cell_type": "code",
   "execution_count": 62,
   "metadata": {},
   "outputs": [
    {
     "name": "stdout",
     "output_type": "stream",
     "text": [
      "\tI guess you mean - 'introspective'"
     ]
    }
   ],
   "source": [
    "find_word(\"introsective\")"
   ]
  },
  {
   "cell_type": "code",
   "execution_count": 76,
   "metadata": {},
   "outputs": [
    {
     "name": "stdout",
     "output_type": "stream",
     "text": [
      "\tI guess you mean - 'mr'\n",
      "\n",
      "\tYou may wanted to say any of these ?\n",
      "\t\t['err', 'mrs']\n"
     ]
    }
   ],
   "source": [
    "find_word(\"mrr\")"
   ]
  },
  {
   "cell_type": "code",
   "execution_count": null,
   "metadata": {},
   "outputs": [],
   "source": []
  }
 ],
 "metadata": {
  "kernelspec": {
   "display_name": "Python 3",
   "language": "python",
   "name": "python3"
  },
  "language_info": {
   "codemirror_mode": {
    "name": "ipython",
    "version": 3
   },
   "file_extension": ".py",
   "mimetype": "text/x-python",
   "name": "python",
   "nbconvert_exporter": "python",
   "pygments_lexer": "ipython3",
   "version": "3.6.5"
  }
 },
 "nbformat": 4,
 "nbformat_minor": 2
}
